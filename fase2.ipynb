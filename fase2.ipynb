{
 "cells": [
  {
   "cell_type": "markdown",
   "metadata": {},
   "source": [
    ">Curso: Curso Superior de Tecnologia em Banco de Dados: Ênfase em Data Analytics<br>\n",
    ">Disciplina: Programação para Dados<br>\n",
    ">Projeto: Fase 2<br>\n",
    ">Aluno: Rafael de Menezes Ehlers<br>\n",
    ">Data: Setembro de 2024"
   ]
  },
  {
   "cell_type": "markdown",
   "metadata": {},
   "source": [
    "### Importa as bibliotecas necessárias"
   ]
  },
  {
   "cell_type": "code",
   "execution_count": 244,
   "metadata": {},
   "outputs": [],
   "source": [
    "import pandas as pd\n",
    "import numpy as np\n",
    "import matplotlib.pyplot as plt"
   ]
  },
  {
   "cell_type": "markdown",
   "metadata": {},
   "source": [
    "### Classe para carregar os dados"
   ]
  },
  {
   "cell_type": "code",
   "execution_count": 245,
   "metadata": {},
   "outputs": [],
   "source": [
    "class DataLoader:\n",
    "    def __init__(self, file_path):\n",
    "        self.data = pd.read_csv(file_path)\n",
    "\n",
    "    def get_data(self):\n",
    "        return self.data"
   ]
  },
  {
   "cell_type": "markdown",
   "metadata": {},
   "source": [
    "### Classe para pré-processamento"
   ]
  },
  {
   "cell_type": "code",
   "execution_count": 246,
   "metadata": {},
   "outputs": [],
   "source": [
    "class PreProcessing:\n",
    "    def __init__(self, data):\n",
    "        self.data = data\n",
    "\n",
    "    def clean_data(self):\n",
    "        # Tratar valores nulos, converter tipos, etc.\n",
    "        self.data['Release date'] = pd.to_datetime(self.data['Release date'], errors='coerce')\n",
    "        self.data = self.data.dropna(subset=['Metacritic score'])\n",
    "        return self.data"
   ]
  },
  {
   "cell_type": "markdown",
   "metadata": {},
   "source": [
    "### Funções para responder às perguntas"
   ]
  },
  {
   "cell_type": "code",
   "execution_count": 247,
   "metadata": {},
   "outputs": [],
   "source": [
    "class Analysis:\n",
    "    def __init__(self, data):\n",
    "        self.data = data\n",
    "\n",
    "    # Pergunta 1: Jogos mais bem avaliados\n",
    "    def top_metacritic_games_grouped_by_name(self, top_n=10):\n",
    "        # Agrupa os jogos por nome e mantém o maior Metacritic score por nome de jogo\n",
    "        grouped_games = self.data.loc[self.data.groupby('Name')['Metacritic score'].idxmax()]\n",
    "        \n",
    "        # Ordena os jogos por Metacritic score (decrescente) e, em caso de empate, pela data de lançamento (crescente)\n",
    "        sorted_games = grouped_games.sort_values(\n",
    "            by=['Metacritic score', 'Release date'],\n",
    "            ascending=[False, True]\n",
    "        )\n",
    "        \n",
    "        # Retorna os top N jogos\n",
    "        return sorted_games[['Name', 'Release date', 'Metacritic score']].head(top_n)\n",
    "\n",
    "    # Pergunta 2: Estatísticas para jogos de Role-playing\n",
    "    def role_playing_stats(self):\n",
    "        # Filtra os jogos do gênero \"Role-playing\" usando .loc\n",
    "        role_playing_games = self.data.loc[self.data['Genres'].str.contains('RPG', na=False)].copy()\n",
    "\n",
    "        # Verifica se existem jogos de role-playing\n",
    "        if role_playing_games.empty:\n",
    "            return {\n",
    "                'DLC mean': 0,\n",
    "                'DLC max': 0,\n",
    "                'Positive mean': 0,\n",
    "                'Positive max': 0,\n",
    "                'Negative mean': 0,\n",
    "                'Negative max': 0,\n",
    "                'Demo materials mean': 0,\n",
    "                'Demo materials max': 0\n",
    "            }\n",
    "\n",
    "        # Converte as colunas relevantes para numéricas ou conta os elementos, tratando valores ausentes\n",
    "        role_playing_games['DLC count'] = pd.to_numeric(role_playing_games['DLC count'], errors='coerce').fillna(0)\n",
    "        role_playing_games['Positive'] = pd.to_numeric(role_playing_games['Positive'], errors='coerce').fillna(0)\n",
    "        role_playing_games['Negative'] = pd.to_numeric(role_playing_games['Negative'], errors='coerce').fillna(0)\n",
    "\n",
    "        # Conta o número de screenshots e filmes usando str.split() e len(), e preenche NaN com 0\n",
    "        role_playing_games['Screenshots'] = role_playing_games['Screenshots'].fillna('').apply(lambda x: len(x.split(',')) if x else 0)\n",
    "        role_playing_games['Movies'] = role_playing_games['Movies'].fillna('').apply(lambda x: len(x.split(',')) if x else 0)\n",
    "\n",
    "        # Calcula o número total de materiais de demonstração (Screenshots + Movies)\n",
    "        role_playing_games = role_playing_games.assign(\n",
    "            Demo_materials=role_playing_games['Screenshots'] + role_playing_games['Movies']\n",
    "        )\n",
    "\n",
    "        # Calcula estatísticas: média e máximo de DLCs, avaliações positivas, avaliações negativas e materiais de demonstração\n",
    "        stats = {\n",
    "            'DLCs médio': round(role_playing_games['DLC count'].mean(), 2),\n",
    "            'DLCs máximo': round(role_playing_games['DLC count'].max(), 2),\n",
    "            'Avaliações Positivas média': round(role_playing_games['Positive'].mean(), 2),\n",
    "            'Avaliações Positivas  máximo': round(role_playing_games['Positive'].max(), 2),\n",
    "            'Avaliações Negativas média': round(role_playing_games['Negative'].mean(), 2),\n",
    "            'Avaliações Negativas máximo': round(role_playing_games['Negative'].max(), 2),\n",
    "            'Materias de demonstração média': round(role_playing_games['Demo_materials'].mean(), 2),\n",
    "            'Materias de demonstração máximo': round(role_playing_games['Demo_materials'].max(), 2)\n",
    "        }\n",
    "\n",
    "        return stats\n",
    "\n",
    "    # Pergunta 3: Empresas que mais publicam jogos pagos\n",
    "    # Função para encontrar os cinco publishers que mais publicam jogos pagos e calcular as estatísticas de avaliações positivas\n",
    "    def top_publishers(self):\n",
    "        # Filtra apenas jogos pagos\n",
    "        paid_games = self.data[self.data['Price'] > 0]\n",
    "\n",
    "        # Contabiliza o número de jogos pagos por publisher\n",
    "        publisher_counts = paid_games['Publishers'].value_counts().head(5)\n",
    "\n",
    "        # Lista para armazenar as estatísticas de cada publisher\n",
    "        publisher_stats = []\n",
    "\n",
    "        # Itera sobre os publishers mais frequentes\n",
    "        for publisher in publisher_counts.index:\n",
    "            # Filtra os jogos pagos do publisher\n",
    "            publisher_games = paid_games[paid_games['Publishers'] == publisher]\n",
    "\n",
    "            # Calcula a média e a mediana de avaliações positivas\n",
    "            positive_mean = publisher_games['Positive'].mean()\n",
    "            positive_median = publisher_games['Positive'].median()\n",
    "\n",
    "            # Adiciona os resultados à lista\n",
    "            publisher_stats.append({\n",
    "                'Produtora': publisher,\n",
    "                'Jogos Pagos': publisher_counts[publisher],\n",
    "                'Média Rev. Pos.': round(positive_mean, 2),\n",
    "                'Mediana Rev. Pos.': round(positive_median, 2)\n",
    "            })\n",
    "\n",
    "        # Cria um DataFrame a partir dos resultados\n",
    "        df = pd.DataFrame(publisher_stats)\n",
    "\n",
    "        return df\n",
    "\n",
    "    # Pergunta 4: Crescimento de suporte para Linux\n",
    "    def linux_support_growth(self):\n",
    "        linux_support = self.data[self.data['Linux'] == True]\n",
    "        linux_games_by_year = linux_support.groupby(linux_support['Release date'].dt.year).size()\n",
    "        return linux_games_by_year"
   ]
  },
  {
   "cell_type": "markdown",
   "metadata": {},
   "source": [
    "### Funções para criar gráficos\n"
   ]
  },
  {
   "cell_type": "code",
   "execution_count": 248,
   "metadata": {},
   "outputs": [],
   "source": [
    "class Graphs:\n",
    "    def __init__(self, data):\n",
    "        self.data = data\n",
    "\n",
    "    # Gráfico 1: Percentual de jogos com suporte para cada sistema operacional\n",
    "    def os_support_pie_chart(self):\n",
    "        os_support = self.data[['Windows', 'Mac', 'Linux']].sum()\n",
    "        os_support.plot.pie(autopct='%1.1f%%')\n",
    "        plt.title('Percentual de Jogos com Suporte para Sistemas Operacionais')\n",
    "        plt.show()\n",
    "\n",
    "    # Gráfico 2: Jogos single-player Indie e Estratégia por ano\n",
    "    def indie_strategy_trend(self):\n",
    "        indie_games = self.data[self.data['Genres'].str.contains('Indie', na=False)]\n",
    "        strategy_games = self.data[self.data['Genres'].str.contains('Strategy', na=False)]\n",
    "        indie_by_year = indie_games.groupby(indie_games['Release date'].dt.year).size()\n",
    "        strategy_by_year = strategy_games.groupby(strategy_games['Release date'].dt.year).size()\n",
    "\n",
    "        plt.plot(indie_by_year.index, indie_by_year.values, label='Indie', marker='o')\n",
    "        plt.plot(strategy_by_year.index, strategy_by_year.values, label='Strategy', marker='x')\n",
    "        plt.title('Número de Jogos Indie e Estratégia Single-Player Lançados por Ano (2010-2020)')\n",
    "        plt.xlabel('Ano')\n",
    "        plt.ylabel('Número de Jogos')\n",
    "        plt.legend()\n",
    "        plt.show()"
   ]
  },
  {
   "cell_type": "markdown",
   "metadata": {},
   "source": [
    "### Execução do programa"
   ]
  },
  {
   "cell_type": "markdown",
   "metadata": {},
   "source": [
    "1. Carregar o Dataset:"
   ]
  },
  {
   "cell_type": "code",
   "execution_count": 249,
   "metadata": {},
   "outputs": [],
   "source": [
    "loader = DataLoader('steam_games.csv')\n",
    "data = loader.get_data()"
   ]
  },
  {
   "cell_type": "markdown",
   "metadata": {},
   "source": [
    "2. Pré-processar o Dataset:\n",
    "\n"
   ]
  },
  {
   "cell_type": "code",
   "execution_count": 250,
   "metadata": {},
   "outputs": [],
   "source": [
    "pre_processor = PreProcessing(data)\n",
    "clean_data = pre_processor.clean_data()"
   ]
  },
  {
   "cell_type": "markdown",
   "metadata": {},
   "source": [
    "3. Realizar as análises:\n",
    "\n"
   ]
  },
  {
   "cell_type": "code",
   "execution_count": 251,
   "metadata": {},
   "outputs": [],
   "source": [
    "analysis = Analysis(clean_data)\n"
   ]
  },
  {
   "cell_type": "markdown",
   "metadata": {},
   "source": [
    "4. Respondendo as perguntas:"
   ]
  },
  {
   "cell_type": "markdown",
   "metadata": {},
   "source": [
    ">Pergunta 1: Quais são os dez jogos mais bem avaliados, de acordo com o Metacritic? No caso de notas repetidas, ordenar os jogos de acordo com suas datas de lançamento (do mais velho para o mais recente).  \n",
    "\n"
   ]
  },
  {
   "cell_type": "code",
   "execution_count": 252,
   "metadata": {},
   "outputs": [],
   "source": [
    "top_games = analysis.top_metacritic_games_grouped_by_name(10)\n",
    "#print(top_games)\n"
   ]
  },
  {
   "cell_type": "markdown",
   "metadata": {},
   "source": [
    ">Pergunta 2: Para jogos de role-playing, qual o número médio e máximo de: DLCs, avaliações positivas, avaliações negativas e materiais de demonstração (número de capturas de tela e filmes, somados)?  "
   ]
  },
  {
   "cell_type": "code",
   "execution_count": 253,
   "metadata": {},
   "outputs": [],
   "source": [
    "rpg_stats = analysis.role_playing_stats()\n",
    "# Formata a saída no formato \"Label: Valor\" com quebra de linha\n",
    "rpg_stats = \"\\n\".join([f\"{label}: {valor}\" for label, valor in rpg_stats.items()])\n",
    "#print(rpg_stats)"
   ]
  },
  {
   "cell_type": "markdown",
   "metadata": {},
   "source": [
    ">Pergunta 3: Quais são as cinco empresas que mais publicam jogos pagos na plataforma? Para tais empresas, qual o número médio e mediano de avaliações positivas de seus jogos pagos?  \n",
    "\n"
   ]
  },
  {
   "cell_type": "code",
   "execution_count": 254,
   "metadata": {},
   "outputs": [
    {
     "name": "stdout",
     "output_type": "stream",
     "text": [
      "        Produtora  Jogos Pagos  Média Rev. Pos.  Mediana Rev. Pos.\n",
      "0  Big Fish Games          443             7.36                5.0\n",
      "1          8floor          239             4.46                3.0\n",
      "2  Strategy First          162           276.45               23.0\n",
      "3    Laush Studio          157            19.78               12.0\n",
      "4        HH-Games          156            10.54                9.0\n"
     ]
    }
   ],
   "source": [
    "top_publishers = analysis.top_publishers()\n",
    "print(top_publishers)"
   ]
  },
  {
   "cell_type": "markdown",
   "metadata": {},
   "source": [
    "4. Gerar Gráficos:\n",
    "\n"
   ]
  },
  {
   "cell_type": "code",
   "execution_count": 255,
   "metadata": {},
   "outputs": [],
   "source": [
    "#graphs = Graphs(clean_data)\n",
    "#graphs.os_support_pie_chart()"
   ]
  }
 ],
 "metadata": {
  "kernelspec": {
   "display_name": "Python 3",
   "language": "python",
   "name": "python3"
  },
  "language_info": {
   "codemirror_mode": {
    "name": "ipython",
    "version": 3
   },
   "file_extension": ".py",
   "mimetype": "text/x-python",
   "name": "python",
   "nbconvert_exporter": "python",
   "pygments_lexer": "ipython3",
   "version": "3.12.2"
  }
 },
 "nbformat": 4,
 "nbformat_minor": 2
}
